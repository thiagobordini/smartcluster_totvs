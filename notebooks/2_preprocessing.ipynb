{
 "cells": [
  {
   "cell_type": "markdown",
   "id": "5322ee1e",
   "metadata": {},
   "source": [
    "#### **Setup Python**"
   ]
  },
  {
   "cell_type": "code",
   "execution_count": 41,
   "id": "2ec1e93f",
   "metadata": {},
   "outputs": [],
   "source": [
    "# Importação - Bibliotecas Python\n",
    "import pandas as pd\n",
    "import numpy as np\n",
    "from datetime import date, time, datetime, timedelta\n",
    "from dateutil.relativedelta import relativedelta\n",
    "import os\n",
    "import warnings\n",
    "import unicodedata\n",
    "\n",
    "# Remoção de avisos do Python\n",
    "warnings.filterwarnings(\"ignore\")"
   ]
  },
  {
   "cell_type": "markdown",
   "id": "5c45a74e",
   "metadata": {},
   "source": [
    "#### **Variáveis - Data Preprocessing TOTVS**"
   ]
  },
  {
   "cell_type": "code",
   "execution_count": 3,
   "id": "8c4ada0e",
   "metadata": {},
   "outputs": [],
   "source": [
    "# Variável que armazena o caminho (path) das bases de dados presentes na camada raw\n",
    "path_raw = \"../data/raw\"\n",
    "\n",
    "# Variável que armazena o caminho (path) da camada \"processed\" onde as bases de dados serão armazenadas\n",
    "path_processed = \"../data/processed\""
   ]
  },
  {
   "cell_type": "markdown",
   "id": "3d2259ab",
   "metadata": {},
   "source": [
    "#### **Funções - Data Preprocessing TOTVS**"
   ]
  },
  {
   "cell_type": "code",
   "execution_count": null,
   "id": "06d982ea",
   "metadata": {},
   "outputs": [],
   "source": [
    "# Função para padronizar strings: maiúsculas, remover acentos e espaços extras\n",
    "def padronizar_texto(coluna):\n",
    "    return (\n",
    "        coluna.astype(str)\n",
    "              .str.strip()\n",
    "              .str.upper()\n",
    "              .apply(lambda x: unicodedata.normalize(\"NFKD\", x)\n",
    "                      .encode(\"ascii\", errors=\"ignore\").decode(\"utf-8\"))\n",
    "    )\n",
    "\n",
    "# Função para calcular a idade em meses\n",
    "def idade_contrato_meses(data_assinatura):\n",
    "    if pd.isnull(data_assinatura):\n",
    "        return np.nan\n",
    "    delta = relativedelta(pd.Timestamp.today(), data_assinatura)\n",
    "    return delta.years * 12 + delta.months"
   ]
  },
  {
   "cell_type": "markdown",
   "id": "d9fd7c6a",
   "metadata": {},
   "source": [
    "#### **Processamento dos Dados - TOTVS**"
   ]
  },
  {
   "cell_type": "markdown",
   "id": "9a528091",
   "metadata": {},
   "source": [
    "##### **Pré-processamento: dados_clientes.csv**"
   ]
  },
  {
   "cell_type": "code",
   "execution_count": null,
   "id": "797fe2fe",
   "metadata": {},
   "outputs": [],
   "source": [
    "# Leitura da base de dados \"dados_clientes.csv\"\n",
    "clientes = pd.read_csv(f\"{path_raw}/dados_clientes.csv\", sep=\";\")\n",
    "\n",
    "# Cópia da base mãe\n",
    "df_clientes = clientes.copy(deep=True)\n",
    "\n",
    "# Aplicar nas colunas categóricas principais\n",
    "colunas_categoricas = [\n",
    "    \"DS_PROD\", \"DS_LIN_REC\", \"CIDADE\", \"DS_CNAE\", \"DS_SEGMENTO\",\n",
    "    \"DS_SUBSEGMENTO\", \"FAT_FAIXA\", \"MARCA_TOTVS\", \"MODAL_COMERC\",\n",
    "    \"PERIODICIDADE\", \"SITUACAO_CONTRATO\", \"UF\"\n",
    "]\n",
    "\n",
    "for col in colunas_categoricas:\n",
    "    df_clientes[col] = padronizar_texto(df_clientes[col])\n",
    "\n",
    "# Preenchimento de colunas com poucos nulos com 'NAO INFORMADO'\n",
    "colunas_para_preencher = {\n",
    "    \"DS_SUBSEGMENTO\": \"NAO INFORMADO\",\n",
    "    \"MARCA_TOTVS\": \"NAO INFORMADO\",\n",
    "    \"MODAL_COMERC\": \"NAO INFORMADO\",\n",
    "    \"PERIODICIDADE\": \"NAO INFORMADO\",\n",
    "    \"SITUACAO_CONTRATO\": \"NAO INFORMADO\"\n",
    "}\n",
    "\n",
    "for col, valor in colunas_para_preencher.items():\n",
    "    df_clientes[col] = df_clientes[col].fillna(valor)\n",
    "\n",
    "# Converter valor do contrato para float\n",
    "df_clientes[\"VL_TOTAL_CONTRATO\"] = (\n",
    "    df_clientes[\"VL_TOTAL_CONTRATO\"]\n",
    "    .replace(\"[R$ ]\", \"\", regex=True)\n",
    "    .str.replace(\".\", \"\", regex=False)\n",
    "    .str.replace(\",\", \".\", regex=False)\n",
    "    .astype(float)\n",
    "    .round(2)\n",
    ")\n",
    "\n",
    "# Faixas de Valor do Contrato\n",
    "bins = [0, 10000, 50000, 100000, 500000, 1000000, np.inf]\n",
    "labels = [\"ATE 10K\", \"10K–50K\", \"50K–100K\", \"100K–500K\", \"500K–1M\", \"ACIMA DE 1M\"]\n",
    "df_clientes[\"VL_TOTAL_CONTRATO_FAIXA\"] = pd.cut(df_clientes[\"VL_TOTAL_CONTRATO\"], bins=bins, labels=labels)\n",
    "\n",
    "# Converter data de assinatura para datetime\n",
    "df_clientes[\"DT_ASSINATURA_CONTRATO\"] = pd.to_datetime(df_clientes[\"DT_ASSINATURA_CONTRATO\"], errors=\"coerce\")\n",
    "\n",
    "# Ano e mês de assinatura\n",
    "df_clientes[\"ANO_ASSINATURA\"] = df_clientes[\"DT_ASSINATURA_CONTRATO\"].dt.year.astype('int64')\n",
    "df_clientes[\"MES_ASSINATURA\"] = df_clientes[\"DT_ASSINATURA_CONTRATO\"].dt.month.astype('int64')\n",
    "\n",
    "# Idade do contrato (em meses)\n",
    "df_clientes[\"IDADE_CONTRATO_MESES\"] = df_clientes[\"DT_ASSINATURA_CONTRATO\"].apply(idade_contrato_meses)\n",
    "\n",
    "# Renomear colunas para padrão snake_case\n",
    "df_clientes.rename(columns={\n",
    "    \"CD_CLIENTE\": \"cliente_id\",\n",
    "    \"DS_PROD\": \"produto\",\n",
    "    \"DS_LIN_REC\": \"linha_receita\",\n",
    "    \"CIDADE\": \"cidade\",\n",
    "    \"DS_CNAE\": \"cnae\",\n",
    "    \"DS_SEGMENTO\": \"segmento\",\n",
    "    \"DS_SUBSEGMENTO\": \"subsegmento\",\n",
    "    \"FAT_FAIXA\": \"faixa_faturamento\",\n",
    "    \"MARCA_TOTVS\": \"marca_totvs\",\n",
    "    \"MODAL_COMERC\": \"modalidade_comercial\",\n",
    "    \"PAIS\": \"pais\",\n",
    "    \"PERIODICIDADE\": \"periodicidade\",\n",
    "    \"SITUACAO_CONTRATO\": \"situacao_contrato\",\n",
    "    \"UF\": \"uf\",\n",
    "    \"VL_TOTAL_CONTRATO\": \"valor_total_contrato\",\n",
    "    \"VL_TOTAL_CONTRATO_FAIXA\": \"faixa_valor_total_contrato\",\n",
    "    \"DT_ASSINATURA_CONTRATO\": \"data_assinatura_contrato\",\n",
    "    \"ANO_ASSINATURA\": \"ano_assinatura\",\n",
    "    \"MES_ASSINATURA\": \"mes_assinatura\",\n",
    "    \"IDADE_CONTRATO_MESES\": \"idade_contrato_meses\"\n",
    "}, inplace=True)\n",
    "\n",
    "# Reorganizar colunas\n",
    "ordem_colunas = [\n",
    "    \"cliente_id\", \"produto\", \"linha_receita\", \"cnae\", \"segmento\", \"subsegmento\",\n",
    "    \"faixa_faturamento\", \"marca_totvs\", \"modalidade_comercial\", \"periodicidade\",\n",
    "    \"situacao_contrato\", \"cidade\", \"uf\", \"pais\",\n",
    "    \"valor_total_contrato\", \"faixa_valor_total_contrato\",\n",
    "    \"data_assinatura_contrato\", \"ano_assinatura\", \"mes_assinatura\", \"idade_contrato_meses\"\n",
    "]\n",
    "df_clientes = df_clientes[ordem_colunas]\n",
    "\n",
    "# Exportação da base tratada\n",
    "df_clientes.to_csv(f\"{path_processed}/dados_clientes.csv\", index=False)"
   ]
  },
  {
   "cell_type": "markdown",
   "id": "5246dd4a",
   "metadata": {},
   "source": [
    "#### **Pré-processamento: contratacoes_ultimos_12_meses.csv**"
   ]
  },
  {
   "cell_type": "code",
   "execution_count": 98,
   "id": "e3a63e2b",
   "metadata": {},
   "outputs": [],
   "source": [
    "# Leitura da base de dados \"contratacoes_ultimos_12_meses.csv\"\n",
    "contratacoes = pd.read_csv(f\"{path_raw}/contratacoes_ultimos_12_meses.csv\", sep=\";\")\n",
    "\n",
    "# Cópia da base mãe\n",
    "df_contratacoes = contratacoes.copy(deep=True)\n",
    "\n",
    "# Conversão do valor para float\n",
    "df_contratacoes[\"VLR_CONTRATACOES_12M\"] = (\n",
    "    df_contratacoes[\"VLR_CONTRATACOES_12M\"]\n",
    "    .replace(\"[R$ ]\", \"\", regex=True)\n",
    "    .str.replace(\".\", \"\", regex=False)\n",
    "    .str.replace(\",\", \".\", regex=False)\n",
    "    .astype(float)\n",
    "    .round(2)\n",
    ")\n",
    "\n",
    "# Renomear colunas para padrão snake_case\n",
    "df_contratacoes.rename(columns={\n",
    "    \"CD_CLIENTE\": \"cliente_id\",\n",
    "    \"QTD_CONTRATACOES_12M\": \"qtd_contratacoes_12m\",\n",
    "    \"VLR_CONTRATACOES_12M\": \"vlr_contratacoes_12m\"\n",
    "}, inplace=True)\n",
    "\n",
    "# Reorganizar colunas\n",
    "df_contratacoes = df_contratacoes[[\"cliente_id\", \"qtd_contratacoes_12m\", \"vlr_contratacoes_12m\"]]\n",
    "\n",
    "# Exportar base tratada\n",
    "df_contratacoes.to_csv(f\"{path_processed}/contratacoes_ultimos_12_meses.csv\", index=False)"
   ]
  }
 ],
 "metadata": {
  "kernelspec": {
   "display_name": "venv",
   "language": "python",
   "name": "python3"
  },
  "language_info": {
   "codemirror_mode": {
    "name": "ipython",
    "version": 3
   },
   "file_extension": ".py",
   "mimetype": "text/x-python",
   "name": "python",
   "nbconvert_exporter": "python",
   "pygments_lexer": "ipython3",
   "version": "3.13.3"
  }
 },
 "nbformat": 4,
 "nbformat_minor": 5
}
